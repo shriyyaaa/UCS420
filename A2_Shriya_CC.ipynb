{
 "cells": [
  {
   "cell_type": "markdown",
   "metadata": {},
   "source": [
    "A2"
   ]
  },
  {
   "cell_type": "code",
   "execution_count": 2,
   "metadata": {},
   "outputs": [
    {
     "name": "stdout",
     "output_type": "stream",
     "text": [
      "[10, 20, 30, 40, 50, 60, 70, 80, 200, 300]\n",
      "[20, 40, 50, 60, 70, 80, 200, 300]\n",
      "[20, 40, 50, 60, 70, 80, 200, 300]\n",
      "[300, 200, 80, 70, 60, 50, 40, 20]\n"
     ]
    }
   ],
   "source": [
    "#question 1:\n",
    "li = [10,20,30,40,50,60,70,80]\n",
    "#add 200 and 300\n",
    "li.append(200)\n",
    "li.append(300)\n",
    "print(li)\n",
    "#remove 10 and 30\n",
    "li.remove(10)\n",
    "li.remove(30)\n",
    "print(li)\n",
    "#sort in ascending order\n",
    "li.sort()\n",
    "print(li)\n",
    "#in reverse\n",
    "li.sort(reverse=True)\n",
    "print(li)\n",
    "\n"
   ]
  },
  {
   "cell_type": "code",
   "execution_count": 8,
   "metadata": {},
   "outputs": [
    {
     "name": "stdout",
     "output_type": "stream",
     "text": [
      "The highest score is 92 and it is at index 5\n",
      "The lowest score is 45 and it is at index 2\n",
      "The reversed list is [45, 58, 92, 89, 45.4, 76, 89.5, 45]\n",
      "45 is in the list\n",
      "at index: 0\n"
     ]
    }
   ],
   "source": [
    "#question2\n",
    "score=(45,89.5,76,45.4,89,92,58,45)\n",
    "highest_score=max(score)\n",
    "highest_index=score.index(highest_score)\n",
    "print(f\"The highest score is {highest_score} and it is at index {highest_index}\")\n",
    "\n",
    "lowest_score=min(score)\n",
    "lowest_index=score.count(lowest_score)\n",
    "print(f\"The lowest score is {lowest_score} and it is at index {lowest_index}\")\n",
    "\n",
    "reversed_list=list(score[::-1])\n",
    "print(f\"The reversed list is {reversed_list}\")\n",
    "\n",
    "user=int(input(\"enter a score to check\"))\n",
    "if user in score:\n",
    "    print(f\"{user} is in the list\")\n",
    "    first_index=score.index(user)\n",
    "    print(\"at index:\",first_index)\n",
    "\n",
    "else:\n",
    "    print(f\"Score {user} is not present in the tuple.\")\n",
    "\n",
    "\n",
    "\n"
   ]
  },
  {
   "cell_type": "code",
   "execution_count": 9,
   "metadata": {},
   "outputs": [
    {
     "name": "stdout",
     "output_type": "stream",
     "text": [
      "[835, 437, 247, 601, 605, 241, 133, 777, 139, 777, 157, 861, 867, 287, 121, 877, 755, 649, 683, 673, 597, 483, 417, 889, 433, 237, 727, 871, 503, 289, 365, 643, 159, 793, 135, 429, 515, 603, 269, 357, 219, 249, 661, 195, 323, 141, 705, 597, 321, 431, 107, 327, 255]\n",
      "53\n",
      "[664, 648, 598, 638, 898, 196, 172, 568, 504, 332, 414, 384, 248, 734, 526, 362, 194, 256, 696, 346, 280, 764, 214, 444, 496, 808, 380, 618, 872, 678, 456, 420, 606, 164, 118, 880, 116, 664, 754, 458, 266, 866, 202, 258, 644, 720, 320]\n",
      "47\n",
      "[835, 437, 247, 601, 605, 241, 133, 777, 139, 777, 157, 861, 867, 287, 121, 877, 755, 649, 683, 673, 597, 483, 417, 889, 433, 237, 727, 871, 503, 289, 365, 643, 159, 793, 135, 429, 515, 603, 269, 357, 219, 249, 661, 195, 323, 141, 705, 597, 321, 431, 107, 327, 255]\n",
      "53\n"
     ]
    }
   ],
   "source": [
    "#question3\n",
    "import random\n",
    "#list of 100 random numbers between 100 to 900\n",
    "numbers = [random.randint(100,900) for _ in range(100)]\n",
    "\n",
    "#to check prime\n",
    "def is_prime(num):\n",
    "    if num<2:\n",
    "         return False\n",
    "    for i in range(2,int(num**0.5)+1):\n",
    "         if num%i==0:\n",
    "              return False\n",
    "         \n",
    "         return True\n",
    "    \n",
    "odd_nums=[num for num in numbers if num%2!=0]\n",
    "even_numbers = [num for num in numbers if num % 2 == 0]\n",
    "prime_numbers = [num for num in numbers if is_prime(num)]\n",
    "print(odd_nums)\n",
    "print(len(odd_nums))\n",
    "print(even_numbers)\n",
    "print(len(even_numbers))\n",
    "print(prime_numbers)\n",
    "print(len(prime_numbers))\n",
    "\n",
    "\n",
    "         "
   ]
  },
  {
   "cell_type": "code",
   "execution_count": null,
   "metadata": {},
   "outputs": [
    {
     "name": "stdout",
     "output_type": "stream",
     "text": [
      "Unique scores (Union of A and B): {34, 45, 78, 23, 56, 90}\n",
      "Common scores (Intersection of A and B): {90, 78}\n",
      "Exclusive scores (Symmetric Difference): {34, 45, 23, 56}\n",
      "Is A a subset of B? False\n",
      "Is B a superset of A? False\n"
     ]
    }
   ],
   "source": [
    "#question 4\n",
    "A={34,56,78,90}\n",
    "B={78,45,90,23}\n",
    "unique_score=A.union(B)\n",
    "print(f\"Unique scores (Union of A and B): {unique_score}\")\n",
    "common_score=A.intersection(B)\n",
    "print(f\"Common scores (Intersection of A and B): {common_score}\")\n",
    "exclusive_score=A.symmetric_difference(B)\n",
    "print(f\"Exclusive scores (Symmetric Difference): {exclusive_score}\")\n",
    "is_subset=A.issubset(B)\n",
    "is_superset=B.issuperset(A)\n",
    "print(f\"Is A a subset of B? {is_subset}\")\n",
    "print(f\"Is B a superset of A? {is_superset}\")\n",
    "X = int(input(\"Enter a score to remove from set A: \"))\n",
    "if X in A:\n",
    "    A.remove(X)\n",
    "    print(f\"Score {X} removed from set A. Updated set A: {A}\")\n",
    "else:\n",
    "    print(f\"Score {X} is not present in set A.\")"
   ]
  },
  {
   "cell_type": "markdown",
   "metadata": {},
   "source": [
    "QUESTION 5"
   ]
  },
  {
   "cell_type": "code",
   "execution_count": 1,
   "metadata": {},
   "outputs": [
    {
     "name": "stdout",
     "output_type": "stream",
     "text": [
      "{'name': 'Kelly', 'age': 25, 'salary': 8000, 'location': 'New york'}\n"
     ]
    }
   ],
   "source": [
    "sample_dict = {\n",
    "    \"name\": \"Kelly\",\n",
    "    \"age\": 25,\n",
    "    \"salary\": 8000,\n",
    "    \"city\": \"New york\"\n",
    "}\n",
    "\n",
    "sample_dict[\"location\"] = sample_dict.pop(\"city\")\n",
    "print(sample_dict)\n"
   ]
  }
 ],
 "metadata": {
  "kernelspec": {
   "display_name": "Python 3",
   "language": "python",
   "name": "python3"
  },
  "language_info": {
   "codemirror_mode": {
    "name": "ipython",
    "version": 3
   },
   "file_extension": ".py",
   "mimetype": "text/x-python",
   "name": "python",
   "nbconvert_exporter": "python",
   "pygments_lexer": "ipython3",
   "version": "3.11.5"
  }
 },
 "nbformat": 4,
 "nbformat_minor": 2
}
